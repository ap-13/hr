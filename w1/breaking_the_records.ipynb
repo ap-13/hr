{
 "cells": [
  {
   "cell_type": "code",
   "execution_count": null,
   "metadata": {},
   "outputs": [],
   "source": [
    "import math\n",
    "import os\n",
    "import random\n",
    "import re\n",
    "import sys"
   ]
  },
  {
   "cell_type": "code",
   "execution_count": null,
   "metadata": {},
   "outputs": [],
   "source": [
    "def breakingRecords(scores):\n",
    "    # Write your code here\n",
    "    mins = maxs = scores[0]\n",
    "    minc = maxc = 0\n",
    "    for i in scores:\n",
    "        if i < mins:\n",
    "            minc += 1\n",
    "            mins = i\n",
    "        if i > maxs:\n",
    "            maxc += 1\n",
    "            maxs = i\n",
    "    return [maxc, minc]"
   ]
  }
 ],
 "metadata": {
  "language_info": {
   "name": "python"
  }
 },
 "nbformat": 4,
 "nbformat_minor": 2
}
