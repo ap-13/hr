{
 "cells": [
  {
   "cell_type": "code",
   "execution_count": null,
   "metadata": {},
   "outputs": [],
   "source": [
    "import math\n",
    "import os\n",
    "import random\n",
    "import re\n",
    "import sys\n",
    "from itertools import combinations"
   ]
  },
  {
   "cell_type": "code",
   "execution_count": null,
   "metadata": {},
   "outputs": [],
   "source": [
    "def miniMaxSum(arr):\n",
    "    # Write your code here\n",
    "    print(sum(sorted(arr)[:-1]), sum(sorted(arr)[1:]))\n",
    "    # sums = [sum(i) for i in list(combinations(arr,4))]\n",
    "    # print(min(sums), max(sums))"
   ]
  },
  {
   "cell_type": "code",
   "execution_count": null,
   "metadata": {},
   "outputs": [],
   "source": [
    "#################\n",
    "# def min_max_sum(arr):\n",
    "#     if len(arr) != 5:\n",
    "#         raise ValueError(\"Input list must contain exactly five integers.\")\n",
    "    \n",
    "#     # Calculate the total sum of all five integers\n",
    "#     total_sum = sum(arr)\n",
    "    \n",
    "#     # Calculate the minimum and maximum sums by excluding one element at a time\n",
    "#     min_sum = total_sum - max(arr)\n",
    "#     max_sum = total_sum - min(arr)\n",
    "    \n",
    "#     # Print the results as space-separated integers\n",
    "#     print(min_sum, max_sum)\n",
    "##################"
   ]
  }
 ],
 "metadata": {
  "language_info": {
   "name": "python"
  }
 },
 "nbformat": 4,
 "nbformat_minor": 2
}
