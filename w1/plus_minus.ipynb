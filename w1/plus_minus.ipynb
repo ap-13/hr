{
 "cells": [
  {
   "cell_type": "code",
   "execution_count": null,
   "metadata": {},
   "outputs": [],
   "source": [
    "import math\n",
    "import os\n",
    "import random\n",
    "import re\n",
    "import sys"
   ]
  },
  {
   "cell_type": "code",
   "execution_count": null,
   "metadata": {},
   "outputs": [],
   "source": [
    "def plusMinus(arr):\n",
    "    # Write your code here\n",
    "    plusl = [i for i in arr if i > 0]\n",
    "    minusl = [i for i in arr if i < 0]\n",
    "    zerol = [i for i in arr if i == 0]\n",
    "    p = len(plusl)/len(arr)\n",
    "    m = len(minusl)/len(arr)\n",
    "    z = len(zerol)/len(arr)\n",
    "    print(\"{:.6f}\".format(p))\n",
    "    print(\"{:.6f}\".format(m))\n",
    "    print(\"{:.6f}\".format(z))"
   ]
  },
  {
   "cell_type": "code",
   "execution_count": null,
   "metadata": {},
   "outputs": [],
   "source": [
    "###########\n",
    "# def calculate_ratios(arr):\n",
    "#     positive_count = sum(1 for x in arr if x > 0)\n",
    "#     negative_count = sum(1 for x in arr if x < 0)\n",
    "#     zero_count = sum(1 for x in arr if x == 0)\n",
    "#     total_count = len(arr)\n",
    "\n",
    "#     positive_ratio = positive_count / total_count\n",
    "#     negative_ratio = negative_count / total_count\n",
    "#     zero_ratio = zero_count / total_count\n",
    "\n",
    "#     print(f\"{positive_ratio:.6f}\")\n",
    "#     print(f\"{negative_ratio:.6f}\")\n",
    "#     print(f\"{zero_ratio:.6f}\")\n",
    "\n",
    "# # Example usage\n",
    "# arr = [1, 1, 0, -1, -1]\n",
    "# calculate_ratios(arr)\n",
    "###########"
   ]
  }
 ],
 "metadata": {
  "language_info": {
   "name": "python"
  }
 },
 "nbformat": 4,
 "nbformat_minor": 2
}
