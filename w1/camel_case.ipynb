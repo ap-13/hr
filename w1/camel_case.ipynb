{
 "cells": [
  {
   "cell_type": "code",
   "execution_count": 1,
   "metadata": {},
   "outputs": [],
   "source": [
    "import math\n",
    "import os\n",
    "import random\n",
    "import re\n",
    "import sys"
   ]
  },
  {
   "cell_type": "code",
   "execution_count": 70,
   "metadata": {},
   "outputs": [],
   "source": [
    "def CamelCaseMaker(inp):\n",
    "    # Write your code here\n",
    "    actual_word = inp[4:]\n",
    "    if inp[0] == 'S':\n",
    "        if inp[2] == 'M':\n",
    "            actual_word = actual_word[:-2]\n",
    "            letter_counter = 0\n",
    "            upper_counts_array = []\n",
    "            for i in actual_word[1:]:\n",
    "                letter_counter += 1\n",
    "                if i.isupper():\n",
    "                    upper_counts_array.append(letter_counter)\n",
    "            for j,index in enumerate(upper_counts_array):\n",
    "                actual_word = actual_word[:index+j] + ' ' + actual_word[index+j:]\n",
    "            print(actual_word.lower())\n",
    "        else:\n",
    "            letter_counter = 0\n",
    "            upper_counts_array = []\n",
    "            for i in actual_word[1:]:\n",
    "                letter_counter += 1\n",
    "                if i.isupper():\n",
    "                    upper_counts_array.append(letter_counter)\n",
    "            for j,index in enumerate(upper_counts_array):\n",
    "                actual_word = actual_word[:index+j] + ' ' + actual_word[index+j:]\n",
    "            print(actual_word.lower())\n",
    "    if inp[0] == 'C':\n",
    "        if inp[2]  == 'M':\n",
    "            letter_counter = 0\n",
    "            space_counts_array = []\n",
    "            for i in actual_word:\n",
    "                letter_counter += 1\n",
    "                if i.isspace():\n",
    "                    space_counts_array.append(letter_counter)\n",
    "            for index in space_counts_array:\n",
    "                actual_word = actual_word[:index] + actual_word[index].upper() + actual_word[index+1:]\n",
    "            actual_word = actual_word.replace(\" \",\"\")\n",
    "            actual_word = actual_word + '()'\n",
    "            print(actual_word)\n",
    "        elif inp[2] == 'V':\n",
    "            letter_counter = 0\n",
    "            space_counts_array = []\n",
    "            for i in actual_word:\n",
    "                letter_counter += 1\n",
    "                if i.isspace():\n",
    "                    space_counts_array.append(letter_counter)\n",
    "            for index in space_counts_array:\n",
    "                actual_word = actual_word[:index] + actual_word[index].upper() + actual_word[index+1:]\n",
    "            actual_word = actual_word.replace(\" \",\"\")\n",
    "            print(actual_word)\n",
    "        else:\n",
    "            letter_counter = 0\n",
    "            space_counts_array = []\n",
    "            for i in actual_word:\n",
    "                letter_counter += 1\n",
    "                if i.isspace():\n",
    "                    space_counts_array.append(letter_counter)\n",
    "            for index in space_counts_array:\n",
    "                actual_word = actual_word[:index] + actual_word[index].upper() + actual_word[index+1:]\n",
    "            actual_word = actual_word.replace(\" \",\"\")\n",
    "            actual_word = actual_word[0].upper() + actual_word[1:]\n",
    "            print(actual_word)"
   ]
  },
  {
   "cell_type": "code",
   "execution_count": 71,
   "metadata": {},
   "outputs": [
    {
     "name": "stdout",
     "output_type": "stream",
     "text": [
      "plastic cup\n"
     ]
    }
   ],
   "source": [
    "CamelCaseMaker('S;M;plasticCup()')"
   ]
  },
  {
   "cell_type": "code",
   "execution_count": 72,
   "metadata": {},
   "outputs": [
    {
     "name": "stdout",
     "output_type": "stream",
     "text": [
      "large software book\n"
     ]
    }
   ],
   "source": [
    "CamelCaseMaker('S;C;LargeSoftwareBook')"
   ]
  },
  {
   "cell_type": "code",
   "execution_count": 73,
   "metadata": {},
   "outputs": [
    {
     "name": "stdout",
     "output_type": "stream",
     "text": [
      "mobilePhone\n"
     ]
    }
   ],
   "source": [
    "CamelCaseMaker('C;V;mobile phone')"
   ]
  },
  {
   "cell_type": "code",
   "execution_count": 74,
   "metadata": {},
   "outputs": [],
   "source": [
    "a = 'mobile phone drama'"
   ]
  },
  {
   "cell_type": "code",
   "execution_count": 75,
   "metadata": {},
   "outputs": [
    {
     "name": "stdout",
     "output_type": "stream",
     "text": [
      "whiteSheetOfPaper()\n"
     ]
    }
   ],
   "source": [
    "CamelCaseMaker('C;M;white sheet of paper')"
   ]
  },
  {
   "cell_type": "code",
   "execution_count": 76,
   "metadata": {},
   "outputs": [
    {
     "name": "stdout",
     "output_type": "stream",
     "text": [
      "CoffeeMachine\n"
     ]
    }
   ],
   "source": [
    "CamelCaseMaker('C;C;coffee machine')"
   ]
  },
  {
   "cell_type": "code",
   "execution_count": 77,
   "metadata": {},
   "outputs": [
    {
     "name": "stdout",
     "output_type": "stream",
     "text": [
      "i pad\n"
     ]
    }
   ],
   "source": [
    "CamelCaseMaker('S;V;iPad')"
   ]
  },
  {
   "cell_type": "code",
   "execution_count": 78,
   "metadata": {},
   "outputs": [
    {
     "name": "stdout",
     "output_type": "stream",
     "text": [
      "mousePad()\n"
     ]
    }
   ],
   "source": [
    "CamelCaseMaker('C;M;mouse pad')"
   ]
  },
  {
   "cell_type": "code",
   "execution_count": 68,
   "metadata": {},
   "outputs": [
    {
     "data": {
      "text/plain": [
       "'CodeSwarm'"
      ]
     },
     "execution_count": 68,
     "metadata": {},
     "output_type": "execute_result"
    }
   ],
   "source": [
    "CamelCaseMaker('C;C;code swarm')"
   ]
  },
  {
   "cell_type": "code",
   "execution_count": 52,
   "metadata": {},
   "outputs": [
    {
     "data": {
      "text/plain": [
       "'orange highlighter'"
      ]
     },
     "execution_count": 52,
     "metadata": {},
     "output_type": "execute_result"
    }
   ],
   "source": [
    "CamelCaseMaker('S;C;OrangeHighlighter')"
   ]
  },
  {
   "cell_type": "code",
   "execution_count": null,
   "metadata": {},
   "outputs": [],
   "source": [
    "# Define the CamelCaseMaker function\n",
    "def CamelCaseMaker(inp):\n",
    "    # Extract the actual word part from the input by slicing\n",
    "    actual_word = inp[4:]\n",
    "    \n",
    "    # Check if the input starts with 'S' for split operations\n",
    "    if inp[0] == 'S':\n",
    "        # Check if it's a method split operation\n",
    "        if inp[2] == 'M':\n",
    "            # Remove the last two characters (presumably \"()\")\n",
    "            actual_word = actual_word[:-2]\n",
    "            letter_counter = 0\n",
    "            upper_counts_array = []\n",
    "            \n",
    "            # Find positions of uppercase letters\n",
    "            for i in actual_word[1:]:\n",
    "                letter_counter += 1\n",
    "                if i.isupper():\n",
    "                    upper_counts_array.append(letter_counter)\n",
    "                    \n",
    "            # Insert spaces at the positions of uppercase letters\n",
    "            for j, index in enumerate(upper_counts_array):\n",
    "                actual_word = actual_word[:index + j] + ' ' + actual_word[index + j:]\n",
    "            \n",
    "            # Print the result in lowercase\n",
    "            print(actual_word.lower())\n",
    "        else:\n",
    "            # For other split operations, find positions of uppercase letters\n",
    "            letter_counter = 0\n",
    "            upper_counts_array = []\n",
    "            for i in actual_word[1:]:\n",
    "                letter_counter += 1\n",
    "                if i.isupper():\n",
    "                    upper_counts_array.append(letter_counter)\n",
    "            \n",
    "            # Insert spaces at the positions of uppercase letters\n",
    "            for j, index in enumerate(upper_counts_array):\n",
    "                actual_word = actual_word[:index + j] + ' ' + actual_word[index + j:]\n",
    "            \n",
    "            # Print the result in lowercase\n",
    "            print(actual_word.lower())\n",
    "    \n",
    "    # Check if the input starts with 'C' for combine operations\n",
    "    if inp[0] == 'C':\n",
    "        # Check if it's a method combine operation\n",
    "        if inp[2] == 'M':\n",
    "            letter_counter = 0\n",
    "            space_counts_array = []\n",
    "            \n",
    "            # Find positions of spaces\n",
    "            for i in actual_word:\n",
    "                letter_counter += 1\n",
    "                if i.isspace():\n",
    "                    space_counts_array.append(letter_counter)\n",
    "            \n",
    "            # Capitalize letters after spaces and remove spaces\n",
    "            for index in space_counts_array:\n",
    "                actual_word = actual_word[:index] + actual_word[index].upper() + actual_word[index + 1:]\n",
    "            actual_word = actual_word.replace(\" \", \"\")\n",
    "            actual_word = actual_word + '()'\n",
    "            \n",
    "            # Print the result\n",
    "            print(actual_word)\n",
    "        elif inp[2] == 'V':\n",
    "            letter_counter = 0\n",
    "            space_counts_array = []\n",
    "            \n",
    "            # Find positions of spaces\n",
    "            for i in actual_word:\n",
    "                letter_counter += 1\n",
    "                if i.isspace():\n",
    "                    space_counts_array.append(letter_counter)\n",
    "            \n",
    "            # Capitalize letters after spaces and remove spaces\n",
    "            for index in space_counts_array:\n",
    "                actual_word = actual_word[:index] + actual_word[index].upper() + actual_word[index + 1:]\n",
    "            actual_word = actual_word.replace(\" \", \"\")\n",
    "            \n",
    "            # Print the result\n",
    "            print(actual_word)\n",
    "        else:\n",
    "            letter_counter = 0\n",
    "            space_counts_array = []\n",
    "            \n",
    "            # Find positions of spaces\n",
    "            for i in actual_word:\n",
    "                letter_counter += 1\n",
    "                if i.isspace():\n",
    "                    space_counts_array.append(letter_counter)\n",
    "            \n",
    "            # Capitalize letters after spaces and remove spaces\n",
    "            for index in space_counts_array:\n",
    "                actual_word = actual_word[:index] + actual_word[index].upper() + actual_word[index + 1:]\n",
    "            actual_word = actual_word.replace(\" \", \"\")\n",
    "            actual_word = actual_word[0].upper() + actual_word[1:]\n",
    "            \n",
    "            # Print the result\n",
    "            print(actual_word)"
   ]
  },
  {
   "cell_type": "code",
   "execution_count": null,
   "metadata": {},
   "outputs": [],
   "source": [
    "# Main function to read input and call CamelCaseMaker for each line\n",
    "if __name__ == \"__main__\":\n",
    "    # Read all input and split into lines\n",
    "    input_data = sys.stdin.read().strip().split('\\n')\n",
    "    \n",
    "    # Process each line of input\n",
    "    for line in input_data:\n",
    "        CamelCaseMaker(line.strip())"
   ]
  }
 ],
 "metadata": {
  "kernelspec": {
   "display_name": "hackerrank",
   "language": "python",
   "name": "python3"
  },
  "language_info": {
   "codemirror_mode": {
    "name": "ipython",
    "version": 3
   },
   "file_extension": ".py",
   "mimetype": "text/x-python",
   "name": "python",
   "nbconvert_exporter": "python",
   "pygments_lexer": "ipython3",
   "version": "3.1.undefined"
  }
 },
 "nbformat": 4,
 "nbformat_minor": 2
}
