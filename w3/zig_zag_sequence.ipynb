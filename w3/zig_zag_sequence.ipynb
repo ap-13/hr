{
 "cells": [
  {
   "cell_type": "code",
   "execution_count": 49,
   "metadata": {},
   "outputs": [],
   "source": [
    "def findZigZagSequence(a, n):\n",
    "    a.sort()\n",
    "    mid = (n-1)//2\n",
    "    print('a = ', a)\n",
    "    print('mid = ', mid)\n",
    "    a[mid], a[n-1] = a[n-1], a[mid]\n",
    "\n",
    "    st = mid + 1\n",
    "    ed = n - 2\n",
    "    print('new a = ', a)\n",
    "    print('st = ', st)\n",
    "    print('ed = ', ed)\n",
    "    while(st <= ed):\n",
    "        a[st], a[ed] = a[ed], a[st]\n",
    "        st = st + 1\n",
    "        ed = ed - 1\n",
    "\n",
    "    for i in range (n):\n",
    "        if i == n-1:\n",
    "            print(a[i])\n",
    "        else:\n",
    "            print(a[i], end = ' ')\n",
    "    return"
   ]
  },
  {
   "cell_type": "code",
   "execution_count": 50,
   "metadata": {},
   "outputs": [],
   "source": [
    "a = [2,3,5,1,4]"
   ]
  },
  {
   "cell_type": "code",
   "execution_count": 9,
   "metadata": {},
   "outputs": [],
   "source": [
    "b = sorted(a)"
   ]
  },
  {
   "cell_type": "code",
   "execution_count": 7,
   "metadata": {},
   "outputs": [
    {
     "data": {
      "text/plain": [
       "4"
      ]
     },
     "execution_count": 7,
     "metadata": {},
     "output_type": "execute_result"
    }
   ],
   "source": [
    "sorted(a)[3]"
   ]
  },
  {
   "cell_type": "code",
   "execution_count": 8,
   "metadata": {},
   "outputs": [
    {
     "data": {
      "text/plain": [
       "5"
      ]
     },
     "execution_count": 8,
     "metadata": {},
     "output_type": "execute_result"
    }
   ],
   "source": [
    "len(a)"
   ]
  },
  {
   "cell_type": "code",
   "execution_count": 10,
   "metadata": {},
   "outputs": [
    {
     "data": {
      "text/plain": [
       "[1, 2, 3, 4, 5]"
      ]
     },
     "execution_count": 10,
     "metadata": {},
     "output_type": "execute_result"
    }
   ],
   "source": [
    "b"
   ]
  },
  {
   "cell_type": "code",
   "execution_count": 51,
   "metadata": {},
   "outputs": [
    {
     "name": "stdout",
     "output_type": "stream",
     "text": [
      "a =  [1, 2, 3, 4, 5]\n",
      "mid =  2\n",
      "new a =  [1, 2, 5, 4, 3]\n",
      "st =  3\n",
      "ed =  3\n",
      "1 2 5 4 3\n"
     ]
    }
   ],
   "source": [
    "findZigZagSequence(a, len(a))"
   ]
  },
  {
   "cell_type": "code",
   "execution_count": 59,
   "metadata": {},
   "outputs": [],
   "source": [
    "def findZigZagSequence(a, n):\n",
    "    a.sort()\n",
    "    mid = int((n)/2)  # Corrected midpoint calculation for zero-based index\n",
    "\n",
    "    # Swap the middle element with the last element\n",
    "    a[mid], a[n - 1] = a[n - 1], a[mid]\n",
    "\n",
    "    # Reverse the second half of the list after the midpoint\n",
    "    st = mid + 1\n",
    "    ed = n - 2  # Correct the end pointer for the swap range\n",
    "    while st < ed:\n",
    "        a[st], a[ed] = a[ed], a[st]\n",
    "        st += 1\n",
    "        ed -= 1\n",
    "\n",
    "    # Print the result\n",
    "    for i in range(n):\n",
    "        if i == n - 1:\n",
    "            print(a[i])\n",
    "        else:\n",
    "            print(a[i], end=' ')\n",
    "    return"
   ]
  },
  {
   "cell_type": "code",
   "execution_count": 60,
   "metadata": {},
   "outputs": [
    {
     "name": "stdout",
     "output_type": "stream",
     "text": [
      "1 2 5 4 3\n"
     ]
    }
   ],
   "source": [
    "a = [2,3,5,1,4]\n",
    "n = len(a)\n",
    "findZigZagSequence(a, n)"
   ]
  },
  {
   "cell_type": "code",
   "execution_count": 66,
   "metadata": {},
   "outputs": [],
   "source": [
    "def findZigZagSequence(a, n):\n",
    "    a.sort()\n",
    "    mid = int((n)/2)\n",
    "    a[mid], a[n-1] = a[n-1], a[mid]\n",
    "\n",
    "    st = mid + 1\n",
    "    ed = n - 2\n",
    "    while(st < ed):\n",
    "        a[st], a[ed] = a[ed], a[st]\n",
    "        st = st + 1\n",
    "        ed = ed - 1\n",
    "\n",
    "    for i in range (n):\n",
    "        if i == n-1:\n",
    "            print(a[i])\n",
    "        else:\n",
    "            print(a[i], end = ' ')\n",
    "    return"
   ]
  },
  {
   "cell_type": "code",
   "execution_count": 79,
   "metadata": {},
   "outputs": [
    {
     "name": "stdout",
     "output_type": "stream",
     "text": [
      "sorted a =  [1, 2, 3, 4, 5]\n",
      "mid of a is 3\n",
      "1 2 5 4 3\n"
     ]
    }
   ],
   "source": [
    "a = [2,3,5,1,4]\n",
    "n = len(a)\n",
    "findZigZagSequence(a, n)"
   ]
  },
  {
   "cell_type": "code",
   "execution_count": 77,
   "metadata": {},
   "outputs": [
    {
     "name": "stdout",
     "output_type": "stream",
     "text": [
      "sorted a =  [1, 2, 4, 4, 5, 6, 7]\n",
      "mid of a is 4\n",
      "1 2 4 7 6 5 4\n"
     ]
    }
   ],
   "source": [
    "a = [1, 2, 4, 7, 6, 5, 4] \n",
    "n = len(a)\n",
    "findZigZagSequence(a, n)"
   ]
  },
  {
   "cell_type": "code",
   "execution_count": 75,
   "metadata": {},
   "outputs": [],
   "source": [
    "# This function sorts the array in Zig-Zag form\n",
    "def findZigZagSequence(a, n):\n",
    "    a.sort()\n",
    "    print('sorted a = ', a)\n",
    "    mid = int((n)/2) # Corrected midpoint calculation for zero-based index\n",
    "    print('mid of a is {}'.format(a[mid]))\n",
    "    a[mid], a[n-1] = a[n-1], a[mid]\n",
    "\n",
    "    st = mid + 1 # Corrected start index for the second half of the list\n",
    "    ed = n - 2 # Corrected end index for the second half of the list which was wrong because of the zero-based index\n",
    "    while(st <= ed):\n",
    "        a[st], a[ed] = a[ed], a[st]\n",
    "        st = st + 1\n",
    "        ed = ed - 1 # Corrected the decrement of the end index\n",
    "\n",
    "    for i in range (n):\n",
    "        if i == n-1:\n",
    "            print(a[i])\n",
    "        else:\n",
    "            print(a[i], end = ' ')\n",
    "    return"
   ]
  },
  {
   "cell_type": "code",
   "execution_count": null,
   "metadata": {},
   "outputs": [],
   "source": [
    "# This function sorts the array in Zig-Zag form\n",
    "def findZigZagSequence(a, n):\n",
    "    a.sort()\n",
    "    mid = int((n)/2) # Corrected midpoint calculation for zero-based index\n",
    "    a[mid], a[n-1] = a[n-1], a[mid]\n",
    "\n",
    "    st = mid + 1 # Corrected start index for the second half of the list\n",
    "    ed = n - 2 # Corrected end index for the second half of the list which was wrong because of the zero-based index\n",
    "    while(st <= ed):\n",
    "        a[st], a[ed] = a[ed], a[st]\n",
    "        st = st + 1\n",
    "        ed = ed - 1 # Corrected the decrement of the end index\n",
    "\n",
    "    for i in range (n):\n",
    "        if i == n-1:\n",
    "            print(a[i])\n",
    "        else:\n",
    "            print(a[i], end = ' ')\n",
    "    return"
   ]
  }
 ],
 "metadata": {
  "kernelspec": {
   "display_name": "hackerrank",
   "language": "python",
   "name": "python3"
  },
  "language_info": {
   "codemirror_mode": {
    "name": "ipython",
    "version": 3
   },
   "file_extension": ".py",
   "mimetype": "text/x-python",
   "name": "python",
   "nbconvert_exporter": "python",
   "pygments_lexer": "ipython3",
   "version": "3.12.4"
  }
 },
 "nbformat": 4,
 "nbformat_minor": 2
}
